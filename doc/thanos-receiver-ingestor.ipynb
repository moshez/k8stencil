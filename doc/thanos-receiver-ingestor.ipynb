{
 "cells": [
  {
   "cell_type": "code",
   "execution_count": 1,
   "id": "c6a5e5b0-fd56-4ccd-98a3-736aee9b0986",
   "metadata": {},
   "outputs": [],
   "source": [
    "from collections import ChainMap"
   ]
  },
  {
   "cell_type": "code",
   "execution_count": 2,
   "id": "06d714a3-e3fd-4a72-a2fe-c94e51421633",
   "metadata": {},
   "outputs": [],
   "source": [
    "from k8stencil import patterns"
   ]
  },
  {
   "cell_type": "code",
   "execution_count": 3,
   "id": "eaa4762b-c719-463f-8ac8-298d2a0ff2fe",
   "metadata": {},
   "outputs": [],
   "source": [
    "pod_affinity_labels =  {\n",
    "    \"app.kubernetes.io/name\": \"thanos-receive\",\n",
    "    \"app.kubernetes.io/instance\": \"thanos-receive-ingestor-default\",\n",
    "}"
   ]
  },
  {
   "cell_type": "code",
   "execution_count": 4,
   "id": "eda9df18-08c2-4582-8386-169a3c0c58ba",
   "metadata": {},
   "outputs": [],
   "source": [
    "match_labels = ChainMap(\n",
    "    {\n",
    "        \"app.kubernetes.io/component\": \"database-write-hashring\",\n",
    "        \"controller.receive.thanos.io/hashring\": \"default\",\n",
    "    },\n",
    "    pod_affinity_labels,\n",
    ")"
   ]
  },
  {
   "cell_type": "code",
   "execution_count": 5,
   "id": "f3f52cf8-d969-426c-a738-5a29b642a0ce",
   "metadata": {},
   "outputs": [],
   "source": [
    "spec_metadata_labels = ChainMap(\n",
    "    {\n",
    "        \"app.kubernetes.io/version\": \"v0.31.0\" ,\n",
    "    },\n",
    "    match_labels,\n",
    ")"
   ]
  },
  {
   "cell_type": "code",
   "execution_count": 6,
   "id": "b21f6c39-1a40-48cb-b20b-ae3fcdbb41f3",
   "metadata": {},
   "outputs": [],
   "source": [
    "metadata_labels = ChainMap(\n",
    "    {\n",
    "        \"controller.receive.thanos.io\": \"thanos-receive-controller\",\n",
    "    },\n",
    "    spec_metadata_labels,\n",
    ")"
   ]
  },
  {
   "cell_type": "code",
   "execution_count": 7,
   "id": "8ed803c0-cb71-4bfd-b1b8-8a806f567165",
   "metadata": {},
   "outputs": [],
   "source": [
    "ports = dict(\n",
    "    grpc=10901,\n",
    "    http=10902,\n",
    "    remote_write=19291,\n",
    ")"
   ]
  },
  {
   "cell_type": "code",
   "execution_count": 9,
   "id": "679c43d9-bfed-4372-9f97-48c9251ab7d0",
   "metadata": {},
   "outputs": [],
   "source": [
    "args = dict(\n",
    "    log=dict(\n",
    "        level=\"info\",\n",
    "        format=\"logfmt\",\n",
    "    ),\n",
    "    grpc_address=patterns.address(ports, \"grpc\"),\n",
    "    http_address=patterns.address(ports, \"http\"),\n",
    "    remote_write=dict(\n",
    "        address=patterns.address(ports, \"remote_write\"),\n",
    "    ),\n",
    "    receive=dict(\n",
    "        replication_factor=1,\n",
    "        local_endpoint=\"$(NAME).thanos-receive-ingestor-default.$(NAMESPACE).svc.cluster.local:10901\",\n",
    "        hashrings_file=\"/var/lib/thanos-hashrings.json\"\n",
    "    ),\n",
    "    label=[\n",
    "        'replica=\"$(NAME)\"',\n",
    "        'receive=\"true\"',\n",
    "    ],\n",
    "    tsdb=dict(\n",
    "        path=\"/var/thanos/receive\",\n",
    "        retention=\"15d\",\n",
    "    ),\n",
    ")"
   ]
  },
  {
   "cell_type": "code",
   "execution_count": 10,
   "id": "9dcc09cd-8f39-41cd-838e-ea83753d1490",
   "metadata": {},
   "outputs": [],
   "source": [
    "env_fields = dict(\n",
    "    name=\"metadata.name\",\n",
    "    namespace=\"metadata.namespace\",\n",
    "    host_ip_address=\"status.hostIP\",\n",
    ")"
   ]
  },
  {
   "cell_type": "code",
   "execution_count": 11,
   "id": "241e0af0-8cb9-4955-bdbc-ddfdcfc98ec4",
   "metadata": {},
   "outputs": [],
   "source": [
    "mounts={\n",
    "    \"/var/thanos/receive\": dict(name=\"data\", readOnly=False),\n",
    "    \"/var/lib/thanos-receive\": dict(name=\"hashring-config\"),\n",
    "}"
   ]
  },
  {
   "cell_type": "code",
   "execution_count": 12,
   "id": "bb0bbd8d-683a-442b-b887-0fab7f7bfe52",
   "metadata": {},
   "outputs": [],
   "source": [
    "containers = [\n",
    "    dict(\n",
    "        args=list(patterns.args_to_list(args)),\n",
    "        env=list(patterns.env_fields_to_env(env_fields)),\n",
    "        ports=list(patterns.ports_to_container_ports(ports)),\n",
    "        readinessProbe=patterns.http_probe(ports, 20, 5, \"ready\"),\n",
    "        livenessProbe=patterns.http_probe(ports, 30, 8, \"healthy\"),\n",
    "        volumeMounts=list(patterns.get_volume_mounts(mounts)),\n",
    "        image=\"quay.io/thanos/thanos:v0.31.0\",\n",
    "        name=\"thanos-receive\",\n",
    "        resources={},\n",
    "        terminationMessagePolicy=\"FallbackToLogsOnError\",\n",
    "    ),\n",
    "]"
   ]
  },
  {
   "cell_type": "code",
   "execution_count": 23,
   "id": "d94953dc-c53d-45ec-8f66-b6d99f367cbc",
   "metadata": {},
   "outputs": [],
   "source": [
    "statefulset_spec_template_spec = dict(\n",
    "    affinity=get_pod_anti_affinitypatterns(pod_affinity_labels, \"thanos\"),\n",
    "    nodeSelector={\"kubernetes.io/os\": \"linux\"},\n",
    "    securityContext={\n",
    "        'fsGroup': 65534,\n",
    "        'runAsGroup': 65532,\n",
    "        'runAsNonRoot': True,\n",
    "        'runAsUser': 65534,\n",
    "        'seccompProfile': {'type': 'RuntimeDefault'}\n",
    "    },\n",
    "    containers=containers,\n",
    ")"
   ]
  },
  {
   "cell_type": "code",
   "execution_count": 24,
   "id": "4a745d79-b9ed-4cd8-aa0a-099c6a867472",
   "metadata": {},
   "outputs": [],
   "source": [
    "statefulset_spec = dict(\n",
    "  minReadySeconds=0,\n",
    "  replicas=1,\n",
    "  selector=dict(\n",
    "      matchLabels=match_labels,\n",
    "  ),\n",
    "  serviceName=\"thanos-receive-ingestor-default\",\n",
    "  template=dict(\n",
    "    metadata=dict(labels=spec_metadata_labels),\n",
    "    spec=statefulset_spec_template_spec,\n",
    "    volumeClaimTemplates=dict(\n",
    "        dict(\n",
    "            metadata=dict(\n",
    "                labels=match_labels,\n",
    "                name=\"data\",\n",
    "            ),\n",
    "            spec=dict(\n",
    "                accessModes=[\"ReadWriteOnce\"],\n",
    "                resources=dict(requests=dict(storage=\"10Gi\")),\n",
    "            ),\n",
    "        ),\n",
    "    ),\n",
    "  ),\n",
    ")"
   ]
  },
  {
   "cell_type": "code",
   "execution_count": 22,
   "id": "f5479813-e21e-4d2f-8e2b-ad4e140c839c",
   "metadata": {},
   "outputs": [],
   "source": [
    "statefulset = dict(\n",
    "    apiVersion=\"apps/v1\",\n",
    "    kind=\"StatefulSet\",\n",
    "    metadata=dict(\n",
    "        labels=metadata_labels,\n",
    "        name=metadata_labels[\"app.kubernetes.io/instance\"],\n",
    "        namespace=\"thanos\",\n",
    "    ),\n",
    "    spec=statefulset_spec,\n",
    ")"
   ]
  },
  {
   "cell_type": "code",
   "execution_count": null,
   "id": "8ad8750e-c28e-4b8b-9056-6f4ed75c2ef1",
   "metadata": {},
   "outputs": [],
   "source": []
  }
 ],
 "metadata": {
  "kernelspec": {
   "display_name": "k8stencil",
   "language": "python",
   "name": "k8stencil-venv"
  },
  "language_info": {
   "codemirror_mode": {
    "name": "ipython",
    "version": 3
   },
   "file_extension": ".py",
   "mimetype": "text/x-python",
   "name": "python",
   "nbconvert_exporter": "python",
   "pygments_lexer": "ipython3",
   "version": "3.12.1"
  }
 },
 "nbformat": 4,
 "nbformat_minor": 5
}
